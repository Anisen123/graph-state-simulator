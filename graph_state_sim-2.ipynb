{
 "cells": [
  {
   "cell_type": "code",
   "execution_count": 1,
   "id": "5e5aacc9-4cb7-4777-80bd-0b72118129fe",
   "metadata": {},
   "outputs": [],
   "source": [
    "import numpy as np\n",
    "import random\n",
    "import networkx as nx\n",
    "import matplotlib.pyplot as plt"
   ]
  },
  {
   "cell_type": "code",
   "execution_count": 2,
   "id": "16b2aee3-4262-4fa9-ac3a-27d2e3e53a33",
   "metadata": {},
   "outputs": [],
   "source": [
    "def draw_graph(m):\n",
    "    m = np.matrix(m)\n",
    "    G = nx.from_numpy_array(m)\n",
    "    nx.draw_kamada_kawai(G,with_labels = True)\n",
    "    "
   ]
  },
  {
   "cell_type": "code",
   "execution_count": 3,
   "id": "6a1adede-b208-4123-8b6a-b0df99617ac0",
   "metadata": {},
   "outputs": [
    {
     "name": "stdout",
     "output_type": "stream",
     "text": [
      "[1, 1, 1, 0]\n"
     ]
    }
   ],
   "source": [
    "def get_nbs(m,v):\n",
    "    nbs = []\n",
    "    for i in range(len(m)):\n",
    "        if(m[v][i] == 1):\n",
    "            nbs.append(i)\n",
    "    return nbs\n",
    "\n",
    "def flip(x):\n",
    "    return (x+1)%2\n",
    "    \n",
    "m1 = [[0,1,0,1],[1,0,1,1],[0,1,0,0],[1,1,0,0]]\n",
    "z_str1 = [0 for i in m1]\n",
    "\n",
    "def z(m,v,z_str):\n",
    "    z_str[v] = flip(z_str[v])\n",
    "\n",
    "def x(m,v,z_str):\n",
    "    for i in get_nbs(m,v):\n",
    "        z(m,i,z_str)\n",
    "        \n",
    "def y(m,v,z_str):\n",
    "    x(m,v,z_str)\n",
    "    z(m,v,z_str)\n",
    "\n",
    "def id(m,v,z_str):\n",
    "    pass\n",
    "\n",
    "def add_error(m,bit_str,z_str,p_e):\n",
    "    for i in bit_str:\n",
    "        np.random.choice([x,y,z,id],p=[p_e/3,p_e/3,p_e/3,1-p_e])(m,i,z_str)\n",
    "\n",
    "add_error(m1,z_str1,z_str1,0.5)\n",
    "print(z_str1)\n",
    "        "
   ]
  },
  {
   "cell_type": "code",
   "execution_count": 4,
   "id": "18f1e626-fdde-4d07-9603-a606623bcdff",
   "metadata": {},
   "outputs": [
    {
     "name": "stdout",
     "output_type": "stream",
     "text": [
      "[[0, 1, 0, 1], [1, 0, 1, 1], [0, 1, 0, 0], [1, 1, 0, 0]]\n"
     ]
    },
    {
     "data": {
      "image/png": "[encoded data removed]",
      "text/plain": [
       "<Figure size 640x480 with 1 Axes>"
      ]
     },
     "metadata": {},
     "output_type": "display_data"
    }
   ],
   "source": [
    "def cz(m,a,b,z_str,p_e):\n",
    "    m[a][b] = flip(m[a][b])\n",
    "    m[b][a] = m[a][b]\n",
    "    add_error(m,[a,b],z_str,p_e)\n",
    "\n",
    "def z_meas(m,v,z_str,p_e):\n",
    "    nbs = get_nbs(m,v)\n",
    "    for i in nbs:\n",
    "        m[i][v] = flip(m[v][i])\n",
    "        m[v][i] = m[i][v]\n",
    "    add_error(m,[v]+nbs,z_str,p_e)\n",
    "\n",
    "def lc(m,v,z_str,p_e):\n",
    "    nbs = get_nbs(m,v)\n",
    "    for i in range(len(nbs)):\n",
    "        for j in range(i+1,len(nbs)):\n",
    "            m[nbs[i]][nbs[j]] = flip(m[nbs[i]][nbs[j]])\n",
    "            m[nbs[j]][nbs[i]] = m[nbs[i]][nbs[j]]\n",
    "    add_error(m,[v]+nbs,z_str,p_e)\n",
    "        \n",
    "print(m1)\n",
    "draw_graph(m1)    "
   ]
  },
  {
   "cell_type": "code",
   "execution_count": 5,
   "id": "c3ed851c-3110-4a22-a065-d9fdebb619b7",
   "metadata": {},
   "outputs": [
    {
     "name": "stdout",
     "output_type": "stream",
     "text": [
      "0.24\n"
     ]
    }
   ],
   "source": [
    "def sc_build_ghz(n,p_e):\n",
    "    n = n-1\n",
    "    m = [[0 for i in range(2*n)] for j in range(2*n)]\n",
    "    err_str = [0 for i in m]\n",
    "    \n",
    "    for i in range(n):\n",
    "        cz(m,i,n+i,err_str,p_e)\n",
    "    #draw_graph (m)\n",
    "\n",
    "    for i in range(1,n):\n",
    "        cz(m,0,i,err_str,p_e)\n",
    "    #draw_graph (m)\n",
    "\n",
    "    for i in range(1,n):\n",
    "        lc(m,i,err_str,p_e)\n",
    "    #draw_graph (m)\n",
    "\n",
    "    for i in range(1,n):\n",
    "        cz(m,0,i,err_str,p_e)\n",
    "    #draw_graph (m)\n",
    "\n",
    "    lc(m,0,err_str,p_e)\n",
    "    #draw_graph(m)\n",
    "\n",
    "    for i in range(1,n):\n",
    "        z_meas(m,i,err_str,p_e)\n",
    "    #draw_graph(m)\n",
    "\n",
    "    err_str = [err_str[0]]+err_str[n:]\n",
    "    return 1 if err_str == [0]*(n+1) else 0\n",
    "\n",
    "#print(sc_build_ghz(3))\n",
    "\n",
    "all_sum_sc = 0\n",
    "for i in range(100):\n",
    "    all_sum_sc += sc_build_ghz(5,0.05)\n",
    "print(all_sum_sc/100)"
   ]
  },
  {
   "cell_type": "code",
   "execution_count": 6,
   "id": "556750bd-a620-4cbe-ad73-a78e4edf8086",
   "metadata": {},
   "outputs": [
    {
     "name": "stdout",
     "output_type": "stream",
     "text": [
      "0.29\n"
     ]
    }
   ],
   "source": [
    "def cn_build_ghz(n,p_e):\n",
    "    m = [[0 for i in range(n)] for j in range(n)]\n",
    "    err_str = [0 for i in m]\n",
    "    \n",
    "    for i in range(n):\n",
    "        for j in range(i):\n",
    "            cz(m,i,j,err_str,p_e)\n",
    "\n",
    "    for v in range(n):\n",
    "        nbs = get_nbs(m,v)\n",
    "        for i in nbs:\n",
    "            m[i][v] = flip(m[v][i])\n",
    "            m[v][i] = m[i][v]\n",
    "        add_error(m,[v]+nbs,err_str,p_e)\n",
    "        \n",
    "    return 1 if err_str == [0]*n else 0\n",
    "\n",
    "#print(cn_build_ghz(4))\n",
    "\n",
    "all_sum_cn = 0\n",
    "for i in range(100):\n",
    "    all_sum_cn += cn_build_ghz(5,0.05)\n",
    "print(all_sum_cn/100)\n",
    "    "
   ]
  },
  {
   "cell_type": "code",
   "execution_count": 16,
   "id": "37d6913c-e4a7-4d2f-8fba-39c371db402b",
   "metadata": {},
   "outputs": [
    {
     "name": "stdout",
     "output_type": "stream",
     "text": [
      "SC: 1.0\n",
      "CN: 1.0\n",
      "SC: 0.53\n",
      "CN: 0.24\n",
      "SC: 0.23\n",
      "CN: 0.02\n",
      "SC: 0.13\n",
      "CN: 0.05\n",
      "SC: 0.07\n",
      "CN: 0.0\n",
      "SC: 0.03\n",
      "CN: 0.02\n",
      "SC: 0.03\n",
      "CN: 0.0\n",
      "SC: 0.01\n",
      "CN: 0.0\n",
      "SC: 0.01\n",
      "CN: 0.0\n",
      "SC: 0.01\n",
      "CN: 0.0\n",
      "SC: 0.0\n",
      "CN: 0.0\n",
      "SC: 0.0\n",
      "CN: 0.0\n",
      "SC: 0.01\n",
      "CN: 0.0\n",
      "SC: 0.0\n",
      "CN: 0.0\n",
      "SC: 0.01\n",
      "CN: 0.0\n"
     ]
    },
    {
     "data": {
      "image/png": "[encoded data removed]",
      "text/plain": [
       "<Figure size 640x480 with 1 Axes>"
      ]
     },
     "metadata": {},
     "output_type": "display_data"
    }
   ],
   "source": [
    "for p in range(0,15):\n",
    "    p = p/100\n",
    "    all_sum_sc = 0\n",
    "    for i in range(100):\n",
    "        all_sum_sc += sc_build_ghz(10,p)\n",
    "    print(\"SC: \" + str(all_sum_sc/100))\n",
    "    plt.scatter(p,all_sum_sc/100,color = 'blue')\n",
    "    all_sum_cn = 0\n",
    "    for i in range(100):\n",
    "        all_sum_cn += cn_build_ghz(10,p)\n",
    "    print(\"CN: \" + str(all_sum_cn/100))\n",
    "    plt.scatter(p,all_sum_cn/100, color = 'orange')\n",
    "    plt.xlabel(\"Error probability\")\n",
    "    plt.ylabel(\"Fidelity\")"
   ]
  },
  {
   "cell_type": "code",
   "execution_count": null,
   "id": "28015691-9743-43b2-933c-433aa9b03b58",
   "metadata": {},
   "outputs": [],
   "source": []
  }
 ],
 "metadata": {
  "kernelspec": {
   "display_name": "Python 3 (ipykernel)",
   "language": "python",
   "name": "python3"
  },
  "language_info": {
   "codemirror_mode": {
    "name": "ipython",
    "version": 3
   },
   "file_extension": ".py",
   "mimetype": "text/x-python",
   "name": "python",
   "nbconvert_exporter": "python",
   "pygments_lexer": "ipython3",
   "version": "3.10.9"
  }
 },
 "nbformat": 4,
 "nbformat_minor": 5
}
